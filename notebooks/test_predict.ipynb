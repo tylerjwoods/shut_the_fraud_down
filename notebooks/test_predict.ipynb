{
 "cells": [
  {
   "cell_type": "code",
   "execution_count": 10,
   "metadata": {},
   "outputs": [
    {
     "name": "stdout",
     "output_type": "stream",
     "text": [
      "The autoreload extension is already loaded. To reload it, use:\n",
      "  %reload_ext autoreload\n"
     ]
    }
   ],
   "source": [
    "import pandas as pd\n",
    "import numpy as np\n",
    "import json\n",
    "%load_ext autoreload\n",
    "%autoreload 2"
   ]
  },
  {
   "cell_type": "code",
   "execution_count": 2,
   "metadata": {},
   "outputs": [],
   "source": [
    "from predict import predict"
   ]
  },
  {
   "cell_type": "code",
   "execution_count": 73,
   "metadata": {},
   "outputs": [],
   "source": [
    "df = pd.read_json('data/data.json')\n",
    "#df.drop(columns='acct_type', inplace=True)"
   ]
  },
  {
   "cell_type": "code",
   "execution_count": 74,
   "metadata": {},
   "outputs": [],
   "source": [
    "df_sample_1 = df.iloc[500, :].copy()\n",
    "df_sample_2 = df.iloc[0, :].copy()"
   ]
  },
  {
   "cell_type": "code",
   "execution_count": 26,
   "metadata": {},
   "outputs": [],
   "source": [
    "json_1 = df_sample_1.to_json()\n",
    "json_2 = df_sample_2.to_json()"
   ]
  },
  {
   "cell_type": "code",
   "execution_count": 70,
   "metadata": {},
   "outputs": [],
   "source": [
    "df_1 = predict(df_sample_1)"
   ]
  },
  {
   "cell_type": "code",
   "execution_count": 76,
   "metadata": {},
   "outputs": [
    {
     "data": {
      "text/plain": [
       "acct_type                                                     fraudster\n",
       "approx_payout_date                                           1207375200\n",
       "body_length                                                        2264\n",
       "channels                                                              0\n",
       "country                                                              GB\n",
       "currency                                                            GBP\n",
       "delivery_method                                                     NaN\n",
       "description           <p>\\r\\nLIDF Sunday at the Roxy - Part 2\\r\\n</p...\n",
       "email_domain                                                 lidf.co.uk\n",
       "event_created                                                1205532634\n",
       "event_end                                                    1206943200\n",
       "event_published                                                     NaN\n",
       "event_start                                                  1206927000\n",
       "fb_published                                                          0\n",
       "gts                                                                   0\n",
       "has_analytics                                                         0\n",
       "has_header                                                            0\n",
       "has_logo                                                              1\n",
       "listed                                                                y\n",
       "name                                   LIDF Sunday at the Roxy - Part 2\n",
       "name_length                                                          32\n",
       "num_order                                                             0\n",
       "num_payouts                                                           0\n",
       "object_id                                                        104011\n",
       "org_desc              PocketPictures runs the London International D...\n",
       "org_facebook                                                          0\n",
       "org_name                                                 PocketPictures\n",
       "org_twitter                                                           0\n",
       "payee_name                                                             \n",
       "payout_type                                                            \n",
       "previous_payouts                                                     []\n",
       "sale_duration                                                       NaN\n",
       "sale_duration2                                                       16\n",
       "show_map                                                              1\n",
       "ticket_types          [{'event_id': 104011, 'cost': 5.0, 'availabili...\n",
       "user_age                                                            686\n",
       "user_created                                                 1146260369\n",
       "user_type                                                             3\n",
       "venue_address                               128-132 Borough High Street\n",
       "venue_country                                                        GB\n",
       "venue_latitude                                                  51.5028\n",
       "venue_longitude                                              -0.0925694\n",
       "venue_name                                          Roxy Bar and Screen\n",
       "venue_state                                              Greater London\n",
       "Name: 500, dtype: object"
      ]
     },
     "execution_count": 76,
     "metadata": {},
     "output_type": "execute_result"
    }
   ],
   "source": [
    "df_sample_1"
   ]
  },
  {
   "cell_type": "code",
   "execution_count": 72,
   "metadata": {},
   "outputs": [
    {
     "data": {
      "text/plain": [
       "approx_payout_date                                                 1207375200\n",
       "body_length                                                              2264\n",
       "channels                                                                    0\n",
       "country                                                                    GB\n",
       "currency                                                                  GBP\n",
       "delivery_method                                                             4\n",
       "description                 <p>\\r\\nLIDF Sunday at the Roxy - Part 2\\r\\n</p...\n",
       "email_domain                                                       lidf.co.uk\n",
       "event_created                                                      1205532634\n",
       "event_end                                                          1206943200\n",
       "event_published                                                           NaN\n",
       "event_start                                                        1206927000\n",
       "fb_published                                                                0\n",
       "gts                                                                         0\n",
       "has_analytics                                                               0\n",
       "has_header                                                                  0\n",
       "has_logo                                                                    1\n",
       "listed                                                                      y\n",
       "name                                         LIDF Sunday at the Roxy - Part 2\n",
       "name_length                                                                32\n",
       "num_order                                                                   0\n",
       "num_payouts                                                                 0\n",
       "object_id                                                              104011\n",
       "org_desc                    PocketPictures runs the London International D...\n",
       "org_facebook                                                                0\n",
       "org_name                                                       PocketPictures\n",
       "org_twitter                                                                 0\n",
       "payee_name                                                                   \n",
       "payout_type                                                                  \n",
       "previous_payouts                                                           []\n",
       "sale_duration                                                             NaN\n",
       "sale_duration2                                                             16\n",
       "show_map                                                                    1\n",
       "ticket_types                [{'event_id': 104011, 'cost': 5.0, 'availabili...\n",
       "user_age                                                                  686\n",
       "user_created                                                       1146260369\n",
       "user_type                                                                   3\n",
       "venue_address                                     128-132 Borough High Street\n",
       "venue_country                                                              GB\n",
       "venue_latitude                                                        51.5028\n",
       "venue_longitude                                                    -0.0925694\n",
       "venue_name                                                Roxy Bar and Screen\n",
       "venue_state                                                    Greater London\n",
       "previous_payouts_length                                                     0\n",
       "previous_payouts_length_                                                    0\n",
       "ticket_type_length                                                      False\n",
       "gross_profits                                                              95\n",
       "gross_profits_dummie                                                        2\n",
       "fraud_probability                                                     0.91802\n",
       "Name: 500, dtype: object"
      ]
     },
     "execution_count": 72,
     "metadata": {},
     "output_type": "execute_result"
    }
   ],
   "source": [
    "df_sample_1"
   ]
  },
  {
   "cell_type": "code",
   "execution_count": 36,
   "metadata": {},
   "outputs": [
    {
     "data": {
      "text/plain": [
       "[{'event_id': 1179983,\n",
       "  'cost': 8.0,\n",
       "  'availability': 1,\n",
       "  'quantity_total': 1000,\n",
       "  'quantity_sold': 13},\n",
       " {'event_id': 1179983,\n",
       "  'cost': 5.0,\n",
       "  'availability': 1,\n",
       "  'quantity_total': 200,\n",
       "  'quantity_sold': 4},\n",
       " {'event_id': 1179983,\n",
       "  'cost': 14.0,\n",
       "  'availability': 1,\n",
       "  'quantity_total': 145,\n",
       "  'quantity_sold': 16},\n",
       " {'event_id': 1179983,\n",
       "  'cost': 20.0,\n",
       "  'availability': 1,\n",
       "  'quantity_total': 60,\n",
       "  'quantity_sold': 4}]"
      ]
     },
     "execution_count": 36,
     "metadata": {},
     "output_type": "execute_result"
    }
   ],
   "source": [
    "df_sample_1['ticket_types']"
   ]
  },
  {
   "cell_type": "code",
   "execution_count": 38,
   "metadata": {},
   "outputs": [
    {
     "name": "stdout",
     "output_type": "stream",
     "text": [
      "8.0\n",
      "5.0\n",
      "14.0\n",
      "20.0\n"
     ]
    }
   ],
   "source": [
    "for i in df_sample_1['ticket_types']:\n",
    "    print(i['cost'])"
   ]
  },
  {
   "cell_type": "code",
   "execution_count": 52,
   "metadata": {},
   "outputs": [
    {
     "data": {
      "text/html": [
       "<div>\n",
       "<style scoped>\n",
       "    .dataframe tbody tr th:only-of-type {\n",
       "        vertical-align: middle;\n",
       "    }\n",
       "\n",
       "    .dataframe tbody tr th {\n",
       "        vertical-align: top;\n",
       "    }\n",
       "\n",
       "    .dataframe thead th {\n",
       "        text-align: right;\n",
       "    }\n",
       "</style>\n",
       "<table border=\"1\" class=\"dataframe\">\n",
       "  <thead>\n",
       "    <tr style=\"text-align: right;\">\n",
       "      <th></th>\n",
       "      <th>approx_payout_date</th>\n",
       "      <th>body_length</th>\n",
       "      <th>channels</th>\n",
       "      <th>country</th>\n",
       "      <th>currency</th>\n",
       "      <th>delivery_method</th>\n",
       "      <th>description</th>\n",
       "      <th>email_domain</th>\n",
       "      <th>event_created</th>\n",
       "      <th>event_end</th>\n",
       "      <th>...</th>\n",
       "      <th>ticket_types</th>\n",
       "      <th>user_age</th>\n",
       "      <th>user_created</th>\n",
       "      <th>user_type</th>\n",
       "      <th>venue_address</th>\n",
       "      <th>venue_country</th>\n",
       "      <th>venue_latitude</th>\n",
       "      <th>venue_longitude</th>\n",
       "      <th>venue_name</th>\n",
       "      <th>venue_state</th>\n",
       "    </tr>\n",
       "  </thead>\n",
       "  <tbody>\n",
       "    <tr>\n",
       "      <th>500</th>\n",
       "      <td>1207375200</td>\n",
       "      <td>2264</td>\n",
       "      <td>0</td>\n",
       "      <td>GB</td>\n",
       "      <td>GBP</td>\n",
       "      <td>NaN</td>\n",
       "      <td>&lt;p&gt;\\r\\nLIDF Sunday at the Roxy - Part 2\\r\\n&lt;/p...</td>\n",
       "      <td>lidf.co.uk</td>\n",
       "      <td>1205532634</td>\n",
       "      <td>1206943200</td>\n",
       "      <td>...</td>\n",
       "      <td>[{'event_id': 104011, 'cost': 5.0, 'availabili...</td>\n",
       "      <td>686</td>\n",
       "      <td>1146260369</td>\n",
       "      <td>3</td>\n",
       "      <td>128-132 Borough High Street</td>\n",
       "      <td>GB</td>\n",
       "      <td>51.502767</td>\n",
       "      <td>-0.092569</td>\n",
       "      <td>Roxy Bar and Screen</td>\n",
       "      <td>Greater London</td>\n",
       "    </tr>\n",
       "    <tr>\n",
       "      <th>501</th>\n",
       "      <td>1207447200</td>\n",
       "      <td>1019</td>\n",
       "      <td>0</td>\n",
       "      <td>GB</td>\n",
       "      <td>GBP</td>\n",
       "      <td>NaN</td>\n",
       "      <td>&lt;p&gt;\\r\\n&lt;strong&gt;Aboriginal Rules&lt;/strong&gt;&lt;br /&gt;...</td>\n",
       "      <td>lidf.co.uk</td>\n",
       "      <td>1205532859</td>\n",
       "      <td>1207015200</td>\n",
       "      <td>...</td>\n",
       "      <td>[{'event_id': 104013, 'cost': 5.0, 'availabili...</td>\n",
       "      <td>686</td>\n",
       "      <td>1146260369</td>\n",
       "      <td>3</td>\n",
       "      <td>128-132 Borough High Street</td>\n",
       "      <td>GB</td>\n",
       "      <td>51.502767</td>\n",
       "      <td>-0.092569</td>\n",
       "      <td>Roxy Bar and Screen</td>\n",
       "      <td>Greater London</td>\n",
       "    </tr>\n",
       "    <tr>\n",
       "      <th>1500</th>\n",
       "      <td>1173672000</td>\n",
       "      <td>1639</td>\n",
       "      <td>6</td>\n",
       "      <td>GB</td>\n",
       "      <td>GBP</td>\n",
       "      <td>NaN</td>\n",
       "      <td>Winner: The Rory Peck Award for Features \\r\\n\\...</td>\n",
       "      <td>lidf.co.uk</td>\n",
       "      <td>1171223344</td>\n",
       "      <td>1173243600</td>\n",
       "      <td>...</td>\n",
       "      <td>[{'event_id': 48130, 'cost': 5.0, 'availabilit...</td>\n",
       "      <td>289</td>\n",
       "      <td>1146260369</td>\n",
       "      <td>3</td>\n",
       "      <td>31 Old Gloucester Street</td>\n",
       "      <td>GB</td>\n",
       "      <td>51.503116</td>\n",
       "      <td>-0.124740</td>\n",
       "      <td>October Gallery</td>\n",
       "      <td>Greater London</td>\n",
       "    </tr>\n",
       "    <tr>\n",
       "      <th>2000</th>\n",
       "      <td>1295524800</td>\n",
       "      <td>3198</td>\n",
       "      <td>5</td>\n",
       "      <td>US</td>\n",
       "      <td>USD</td>\n",
       "      <td>NaN</td>\n",
       "      <td>&lt;p style=\"text-align: center;\"&gt;The rumors are ...</td>\n",
       "      <td>kineticevents.com</td>\n",
       "      <td>1294104839</td>\n",
       "      <td>1295092800</td>\n",
       "      <td>...</td>\n",
       "      <td>[{'event_id': 463048, 'cost': 10.0, 'availabil...</td>\n",
       "      <td>446</td>\n",
       "      <td>1255562574</td>\n",
       "      <td>1</td>\n",
       "      <td>119 Utah Street</td>\n",
       "      <td>US</td>\n",
       "      <td>37.767475</td>\n",
       "      <td>-122.406878</td>\n",
       "      <td></td>\n",
       "      <td></td>\n",
       "    </tr>\n",
       "    <tr>\n",
       "      <th>3000</th>\n",
       "      <td>1207357200</td>\n",
       "      <td>3266</td>\n",
       "      <td>0</td>\n",
       "      <td>GB</td>\n",
       "      <td>GBP</td>\n",
       "      <td>NaN</td>\n",
       "      <td>&lt;p&gt;\\r\\nLIDF Sunday at the Roxy - Part 1\\r\\n&lt;/p...</td>\n",
       "      <td>lidf.co.uk</td>\n",
       "      <td>1205532138</td>\n",
       "      <td>1206925200</td>\n",
       "      <td>...</td>\n",
       "      <td>[{'event_id': 104008, 'cost': 5.0, 'availabili...</td>\n",
       "      <td>686</td>\n",
       "      <td>1146260369</td>\n",
       "      <td>3</td>\n",
       "      <td>128-132 Borough High Street</td>\n",
       "      <td>GB</td>\n",
       "      <td>51.502767</td>\n",
       "      <td>-0.092569</td>\n",
       "      <td>Roxy Bar and Screen</td>\n",
       "      <td>Greater London</td>\n",
       "    </tr>\n",
       "    <tr>\n",
       "      <th>3001</th>\n",
       "      <td>1207533600</td>\n",
       "      <td>1669</td>\n",
       "      <td>0</td>\n",
       "      <td>GB</td>\n",
       "      <td>GBP</td>\n",
       "      <td>NaN</td>\n",
       "      <td>&lt;p&gt;\\r\\n&lt;strong&gt;Coca Zero (Koka Zero)&lt;br /&gt;\\r\\n...</td>\n",
       "      <td>lidf.co.uk</td>\n",
       "      <td>1205533074</td>\n",
       "      <td>1207101600</td>\n",
       "      <td>...</td>\n",
       "      <td>[{'event_id': 104016, 'cost': 5.0, 'availabili...</td>\n",
       "      <td>686</td>\n",
       "      <td>1146260369</td>\n",
       "      <td>3</td>\n",
       "      <td>128-132 Borough High Street</td>\n",
       "      <td>GB</td>\n",
       "      <td>51.502767</td>\n",
       "      <td>-0.092569</td>\n",
       "      <td>Roxy Bar and Screen</td>\n",
       "      <td>Greater London</td>\n",
       "    </tr>\n",
       "    <tr>\n",
       "      <th>4000</th>\n",
       "      <td>1238805000</td>\n",
       "      <td>1846</td>\n",
       "      <td>6</td>\n",
       "      <td>GB</td>\n",
       "      <td>GBP</td>\n",
       "      <td>NaN</td>\n",
       "      <td>&lt;p&gt;&lt;a href=\"http://www.lidf.co.uk/lidf09/films...</td>\n",
       "      <td>lidf.co.uk</td>\n",
       "      <td>1236450223</td>\n",
       "      <td>1238373000</td>\n",
       "      <td>...</td>\n",
       "      <td>[{'event_id': 301632, 'cost': 7.0, 'availabili...</td>\n",
       "      <td>1044</td>\n",
       "      <td>1146260369</td>\n",
       "      <td>3</td>\n",
       "      <td>128-132 Borough High Street</td>\n",
       "      <td>GB</td>\n",
       "      <td>51.502767</td>\n",
       "      <td>-0.092569</td>\n",
       "      <td>Roxy Bar and Screen</td>\n",
       "      <td>Greater London</td>\n",
       "    </tr>\n",
       "    <tr>\n",
       "      <th>4001</th>\n",
       "      <td>1238774400</td>\n",
       "      <td>1157</td>\n",
       "      <td>6</td>\n",
       "      <td>GB</td>\n",
       "      <td>GBP</td>\n",
       "      <td>NaN</td>\n",
       "      <td>&lt;p&gt;&lt;a href=\"http://www.lidf.co.uk/lidf09/films...</td>\n",
       "      <td>lidf.co.uk</td>\n",
       "      <td>1236452373</td>\n",
       "      <td>1238342400</td>\n",
       "      <td>...</td>\n",
       "      <td>[{'event_id': 301642, 'cost': 7.0, 'availabili...</td>\n",
       "      <td>1044</td>\n",
       "      <td>1146260369</td>\n",
       "      <td>3</td>\n",
       "      <td>128-132 Borough High Street</td>\n",
       "      <td>GB</td>\n",
       "      <td>51.502767</td>\n",
       "      <td>-0.092569</td>\n",
       "      <td>Roxy Bar and Screen</td>\n",
       "      <td>Greater London</td>\n",
       "    </tr>\n",
       "    <tr>\n",
       "      <th>5000</th>\n",
       "      <td>1365478200</td>\n",
       "      <td>4108</td>\n",
       "      <td>8</td>\n",
       "      <td>PE</td>\n",
       "      <td>USD</td>\n",
       "      <td>NaN</td>\n",
       "      <td>&lt;p style=\"margin-top: 0.5em; margin-bottom: 0....</td>\n",
       "      <td>gmail.com</td>\n",
       "      <td>1363002493</td>\n",
       "      <td>1365046200</td>\n",
       "      <td>...</td>\n",
       "      <td>[{'event_id': 422185, 'cost': 22.63, 'availabi...</td>\n",
       "      <td>1561</td>\n",
       "      <td>1228186684</td>\n",
       "      <td>3</td>\n",
       "      <td>29 West 26th Street</td>\n",
       "      <td>US</td>\n",
       "      <td>40.744441</td>\n",
       "      <td>-73.989971</td>\n",
       "      <td>Gerald Marks Studio</td>\n",
       "      <td>NY</td>\n",
       "    </tr>\n",
       "    <tr>\n",
       "      <th>5500</th>\n",
       "      <td>1207620000</td>\n",
       "      <td>934</td>\n",
       "      <td>0</td>\n",
       "      <td>GB</td>\n",
       "      <td>GBP</td>\n",
       "      <td>NaN</td>\n",
       "      <td>&lt;p&gt;\\r\\n&lt;strong&gt;Second Sight&lt;br /&gt;\\r\\n&lt;/strong&gt;...</td>\n",
       "      <td>lidf.co.uk</td>\n",
       "      <td>1205533256</td>\n",
       "      <td>1207188000</td>\n",
       "      <td>...</td>\n",
       "      <td>[{'event_id': 104017, 'cost': 5.0, 'availabili...</td>\n",
       "      <td>686</td>\n",
       "      <td>1146260369</td>\n",
       "      <td>3</td>\n",
       "      <td>128-132 Borough High Street</td>\n",
       "      <td>GB</td>\n",
       "      <td>51.502767</td>\n",
       "      <td>-0.092569</td>\n",
       "      <td>Roxy Bar and Screen</td>\n",
       "      <td>Greater London</td>\n",
       "    </tr>\n",
       "    <tr>\n",
       "      <th>6000</th>\n",
       "      <td>1349305200</td>\n",
       "      <td>1669</td>\n",
       "      <td>11</td>\n",
       "      <td>US</td>\n",
       "      <td>USD</td>\n",
       "      <td>NaN</td>\n",
       "      <td>&lt;p&gt;&lt;span style=\"color: #333333; font-family: '...</td>\n",
       "      <td>gmail.com</td>\n",
       "      <td>1347929276</td>\n",
       "      <td>1348873200</td>\n",
       "      <td>...</td>\n",
       "      <td>[{'event_id': 389649, 'cost': 0.0, 'availabili...</td>\n",
       "      <td>1598</td>\n",
       "      <td>1209840270</td>\n",
       "      <td>3</td>\n",
       "      <td></td>\n",
       "      <td>None</td>\n",
       "      <td>NaN</td>\n",
       "      <td>NaN</td>\n",
       "      <td>None</td>\n",
       "      <td>None</td>\n",
       "    </tr>\n",
       "    <tr>\n",
       "      <th>7500</th>\n",
       "      <td>1171256400</td>\n",
       "      <td>2164</td>\n",
       "      <td>6</td>\n",
       "      <td>GB</td>\n",
       "      <td>GBP</td>\n",
       "      <td>NaN</td>\n",
       "      <td>Producer’s note \\r\\n\\r\\nThe Amazon rainforest ...</td>\n",
       "      <td>lidf.co.uk</td>\n",
       "      <td>1170332468</td>\n",
       "      <td>1170824400</td>\n",
       "      <td>...</td>\n",
       "      <td>[{'event_id': 47146, 'cost': 5.0, 'availabilit...</td>\n",
       "      <td>279</td>\n",
       "      <td>1146260369</td>\n",
       "      <td>3</td>\n",
       "      <td>24 Old Gloucester Street</td>\n",
       "      <td>GB</td>\n",
       "      <td>51.503116</td>\n",
       "      <td>-0.124740</td>\n",
       "      <td>October Gallery</td>\n",
       "      <td>Greater London</td>\n",
       "    </tr>\n",
       "    <tr>\n",
       "      <th>8000</th>\n",
       "      <td>1173074400</td>\n",
       "      <td>5967</td>\n",
       "      <td>6</td>\n",
       "      <td>GB</td>\n",
       "      <td>GBP</td>\n",
       "      <td>NaN</td>\n",
       "      <td>Golden Globe, San Francisco International Film...</td>\n",
       "      <td>lidf.co.uk</td>\n",
       "      <td>1171222570</td>\n",
       "      <td>1172642400</td>\n",
       "      <td>...</td>\n",
       "      <td>[{'event_id': 48129, 'cost': 5.0, 'availabilit...</td>\n",
       "      <td>289</td>\n",
       "      <td>1146260369</td>\n",
       "      <td>3</td>\n",
       "      <td>31 Old Gloucester Street</td>\n",
       "      <td>GB</td>\n",
       "      <td>51.503116</td>\n",
       "      <td>-0.124740</td>\n",
       "      <td>October Gallery</td>\n",
       "      <td>Greater London</td>\n",
       "    </tr>\n",
       "    <tr>\n",
       "      <th>8001</th>\n",
       "      <td>1238904000</td>\n",
       "      <td>1857</td>\n",
       "      <td>6</td>\n",
       "      <td>GB</td>\n",
       "      <td>GBP</td>\n",
       "      <td>NaN</td>\n",
       "      <td>&lt;div style=\"background-color: #eee; border: 1p...</td>\n",
       "      <td>lidf.co.uk</td>\n",
       "      <td>1236452739</td>\n",
       "      <td>1238472000</td>\n",
       "      <td>...</td>\n",
       "      <td>[{'event_id': 301647, 'cost': 10.0, 'availabil...</td>\n",
       "      <td>1044</td>\n",
       "      <td>1146260369</td>\n",
       "      <td>3</td>\n",
       "      <td>30 Colonnade</td>\n",
       "      <td>GB</td>\n",
       "      <td>51.522928</td>\n",
       "      <td>-0.123980</td>\n",
       "      <td>The Horse Hospital</td>\n",
       "      <td>London, City Of</td>\n",
       "    </tr>\n",
       "    <tr>\n",
       "      <th>11500</th>\n",
       "      <td>1207702800</td>\n",
       "      <td>1478</td>\n",
       "      <td>0</td>\n",
       "      <td>GB</td>\n",
       "      <td>GBP</td>\n",
       "      <td>NaN</td>\n",
       "      <td>&lt;p&gt;\\r\\n&lt;strong&gt;With a Stroke of the Chaveta (C...</td>\n",
       "      <td>lidf.co.uk</td>\n",
       "      <td>1205533623</td>\n",
       "      <td>1207270800</td>\n",
       "      <td>...</td>\n",
       "      <td>[{'event_id': 104018, 'cost': 5.0, 'availabili...</td>\n",
       "      <td>686</td>\n",
       "      <td>1146260369</td>\n",
       "      <td>3</td>\n",
       "      <td>128-132 Borough High Street</td>\n",
       "      <td>GB</td>\n",
       "      <td>51.502767</td>\n",
       "      <td>-0.092569</td>\n",
       "      <td>Roxy Bar and Screen</td>\n",
       "      <td>Greater London</td>\n",
       "    </tr>\n",
       "    <tr>\n",
       "      <th>11501</th>\n",
       "      <td>1352160000</td>\n",
       "      <td>4877</td>\n",
       "      <td>11</td>\n",
       "      <td>US</td>\n",
       "      <td>USD</td>\n",
       "      <td>NaN</td>\n",
       "      <td>&lt;p&gt; &lt;/p&gt;\\r\\n&lt;table class=\"uiGrid mvm\" style=\"w...</td>\n",
       "      <td>gmail.com</td>\n",
       "      <td>1349194534</td>\n",
       "      <td>1351724400</td>\n",
       "      <td>...</td>\n",
       "      <td>[{'event_id': 382227, 'cost': 0.0, 'availabili...</td>\n",
       "      <td>1180</td>\n",
       "      <td>1247251648</td>\n",
       "      <td>3</td>\n",
       "      <td></td>\n",
       "      <td>US</td>\n",
       "      <td>33.748995</td>\n",
       "      <td>-84.387982</td>\n",
       "      <td></td>\n",
       "      <td>GA</td>\n",
       "    </tr>\n",
       "  </tbody>\n",
       "</table>\n",
       "<p>16 rows × 43 columns</p>\n",
       "</div>"
      ],
      "text/plain": [
       "       approx_payout_date  body_length  channels country currency  \\\n",
       "500            1207375200         2264         0      GB      GBP   \n",
       "501            1207447200         1019         0      GB      GBP   \n",
       "1500           1173672000         1639         6      GB      GBP   \n",
       "2000           1295524800         3198         5      US      USD   \n",
       "3000           1207357200         3266         0      GB      GBP   \n",
       "3001           1207533600         1669         0      GB      GBP   \n",
       "4000           1238805000         1846         6      GB      GBP   \n",
       "4001           1238774400         1157         6      GB      GBP   \n",
       "5000           1365478200         4108         8      PE      USD   \n",
       "5500           1207620000          934         0      GB      GBP   \n",
       "6000           1349305200         1669        11      US      USD   \n",
       "7500           1171256400         2164         6      GB      GBP   \n",
       "8000           1173074400         5967         6      GB      GBP   \n",
       "8001           1238904000         1857         6      GB      GBP   \n",
       "11500          1207702800         1478         0      GB      GBP   \n",
       "11501          1352160000         4877        11      US      USD   \n",
       "\n",
       "       delivery_method                                        description  \\\n",
       "500                NaN  <p>\\r\\nLIDF Sunday at the Roxy - Part 2\\r\\n</p...   \n",
       "501                NaN  <p>\\r\\n<strong>Aboriginal Rules</strong><br />...   \n",
       "1500               NaN  Winner: The Rory Peck Award for Features \\r\\n\\...   \n",
       "2000               NaN  <p style=\"text-align: center;\">The rumors are ...   \n",
       "3000               NaN  <p>\\r\\nLIDF Sunday at the Roxy - Part 1\\r\\n</p...   \n",
       "3001               NaN  <p>\\r\\n<strong>Coca Zero (Koka Zero)<br />\\r\\n...   \n",
       "4000               NaN  <p><a href=\"http://www.lidf.co.uk/lidf09/films...   \n",
       "4001               NaN  <p><a href=\"http://www.lidf.co.uk/lidf09/films...   \n",
       "5000               NaN  <p style=\"margin-top: 0.5em; margin-bottom: 0....   \n",
       "5500               NaN  <p>\\r\\n<strong>Second Sight<br />\\r\\n</strong>...   \n",
       "6000               NaN  <p><span style=\"color: #333333; font-family: '...   \n",
       "7500               NaN  Producer’s note \\r\\n\\r\\nThe Amazon rainforest ...   \n",
       "8000               NaN  Golden Globe, San Francisco International Film...   \n",
       "8001               NaN  <div style=\"background-color: #eee; border: 1p...   \n",
       "11500              NaN  <p>\\r\\n<strong>With a Stroke of the Chaveta (C...   \n",
       "11501              NaN  <p> </p>\\r\\n<table class=\"uiGrid mvm\" style=\"w...   \n",
       "\n",
       "            email_domain  event_created   event_end  ...  \\\n",
       "500           lidf.co.uk     1205532634  1206943200  ...   \n",
       "501           lidf.co.uk     1205532859  1207015200  ...   \n",
       "1500          lidf.co.uk     1171223344  1173243600  ...   \n",
       "2000   kineticevents.com     1294104839  1295092800  ...   \n",
       "3000          lidf.co.uk     1205532138  1206925200  ...   \n",
       "3001          lidf.co.uk     1205533074  1207101600  ...   \n",
       "4000          lidf.co.uk     1236450223  1238373000  ...   \n",
       "4001          lidf.co.uk     1236452373  1238342400  ...   \n",
       "5000           gmail.com     1363002493  1365046200  ...   \n",
       "5500          lidf.co.uk     1205533256  1207188000  ...   \n",
       "6000           gmail.com     1347929276  1348873200  ...   \n",
       "7500          lidf.co.uk     1170332468  1170824400  ...   \n",
       "8000          lidf.co.uk     1171222570  1172642400  ...   \n",
       "8001          lidf.co.uk     1236452739  1238472000  ...   \n",
       "11500         lidf.co.uk     1205533623  1207270800  ...   \n",
       "11501          gmail.com     1349194534  1351724400  ...   \n",
       "\n",
       "                                            ticket_types  user_age  \\\n",
       "500    [{'event_id': 104011, 'cost': 5.0, 'availabili...       686   \n",
       "501    [{'event_id': 104013, 'cost': 5.0, 'availabili...       686   \n",
       "1500   [{'event_id': 48130, 'cost': 5.0, 'availabilit...       289   \n",
       "2000   [{'event_id': 463048, 'cost': 10.0, 'availabil...       446   \n",
       "3000   [{'event_id': 104008, 'cost': 5.0, 'availabili...       686   \n",
       "3001   [{'event_id': 104016, 'cost': 5.0, 'availabili...       686   \n",
       "4000   [{'event_id': 301632, 'cost': 7.0, 'availabili...      1044   \n",
       "4001   [{'event_id': 301642, 'cost': 7.0, 'availabili...      1044   \n",
       "5000   [{'event_id': 422185, 'cost': 22.63, 'availabi...      1561   \n",
       "5500   [{'event_id': 104017, 'cost': 5.0, 'availabili...       686   \n",
       "6000   [{'event_id': 389649, 'cost': 0.0, 'availabili...      1598   \n",
       "7500   [{'event_id': 47146, 'cost': 5.0, 'availabilit...       279   \n",
       "8000   [{'event_id': 48129, 'cost': 5.0, 'availabilit...       289   \n",
       "8001   [{'event_id': 301647, 'cost': 10.0, 'availabil...      1044   \n",
       "11500  [{'event_id': 104018, 'cost': 5.0, 'availabili...       686   \n",
       "11501  [{'event_id': 382227, 'cost': 0.0, 'availabili...      1180   \n",
       "\n",
       "       user_created  user_type                venue_address  venue_country  \\\n",
       "500      1146260369          3  128-132 Borough High Street             GB   \n",
       "501      1146260369          3  128-132 Borough High Street             GB   \n",
       "1500     1146260369          3     31 Old Gloucester Street             GB   \n",
       "2000     1255562574          1              119 Utah Street             US   \n",
       "3000     1146260369          3  128-132 Borough High Street             GB   \n",
       "3001     1146260369          3  128-132 Borough High Street             GB   \n",
       "4000     1146260369          3  128-132 Borough High Street             GB   \n",
       "4001     1146260369          3  128-132 Borough High Street             GB   \n",
       "5000     1228186684          3          29 West 26th Street             US   \n",
       "5500     1146260369          3  128-132 Borough High Street             GB   \n",
       "6000     1209840270          3                                        None   \n",
       "7500     1146260369          3     24 Old Gloucester Street             GB   \n",
       "8000     1146260369          3     31 Old Gloucester Street             GB   \n",
       "8001     1146260369          3                 30 Colonnade             GB   \n",
       "11500    1146260369          3  128-132 Borough High Street             GB   \n",
       "11501    1247251648          3                                          US   \n",
       "\n",
       "       venue_latitude venue_longitude           venue_name      venue_state  \n",
       "500         51.502767       -0.092569  Roxy Bar and Screen   Greater London  \n",
       "501         51.502767       -0.092569  Roxy Bar and Screen   Greater London  \n",
       "1500        51.503116       -0.124740      October Gallery   Greater London  \n",
       "2000        37.767475     -122.406878                                        \n",
       "3000        51.502767       -0.092569  Roxy Bar and Screen   Greater London  \n",
       "3001        51.502767       -0.092569  Roxy Bar and Screen   Greater London  \n",
       "4000        51.502767       -0.092569  Roxy Bar and Screen   Greater London  \n",
       "4001        51.502767       -0.092569  Roxy Bar and Screen   Greater London  \n",
       "5000        40.744441      -73.989971  Gerald Marks Studio               NY  \n",
       "5500        51.502767       -0.092569  Roxy Bar and Screen   Greater London  \n",
       "6000              NaN             NaN                 None             None  \n",
       "7500        51.503116       -0.124740      October Gallery   Greater London  \n",
       "8000        51.503116       -0.124740      October Gallery   Greater London  \n",
       "8001        51.522928       -0.123980   The Horse Hospital  London, City Of  \n",
       "11500       51.502767       -0.092569  Roxy Bar and Screen   Greater London  \n",
       "11501       33.748995      -84.387982                                    GA  \n",
       "\n",
       "[16 rows x 43 columns]"
      ]
     },
     "execution_count": 52,
     "metadata": {},
     "output_type": "execute_result"
    }
   ],
   "source": [
    "df[df['delivery_method'].isna()]"
   ]
  },
  {
   "cell_type": "code",
   "execution_count": 68,
   "metadata": {},
   "outputs": [
    {
     "data": {
      "text/plain": [
       "float"
      ]
     },
     "execution_count": 68,
     "metadata": {},
     "output_type": "execute_result"
    }
   ],
   "source": [
    "type(df_sample_1['delivery_method'])"
   ]
  },
  {
   "cell_type": "code",
   "execution_count": 62,
   "metadata": {},
   "outputs": [
    {
     "data": {
      "text/plain": [
       "float"
      ]
     },
     "execution_count": 62,
     "metadata": {},
     "output_type": "execute_result"
    }
   ],
   "source": [
    "type(np.nan)"
   ]
  },
  {
   "cell_type": "code",
   "execution_count": 78,
   "metadata": {},
   "outputs": [
    {
     "data": {
      "text/plain": [
       "14337"
      ]
     },
     "execution_count": 78,
     "metadata": {},
     "output_type": "execute_result"
    }
   ],
   "source": [
    "len(df['object_id'].unique())"
   ]
  },
  {
   "cell_type": "code",
   "execution_count": 79,
   "metadata": {},
   "outputs": [
    {
     "data": {
      "text/plain": [
       "(14337, 44)"
      ]
     },
     "execution_count": 79,
     "metadata": {},
     "output_type": "execute_result"
    }
   ],
   "source": [
    "df.shape"
   ]
  },
  {
   "cell_type": "code",
   "execution_count": 67,
   "metadata": {},
   "outputs": [],
   "source": [
    "delivery_methods = [0., 1., 3.]\n",
    "if df_sample_1['delivery_method'] not in delivery_methods:\n",
    "    df_sample_1['delivery_method'] = 4."
   ]
  },
  {
   "cell_type": "code",
   "execution_count": 86,
   "metadata": {},
   "outputs": [],
   "source": [
    "d = {\n",
    "            'object_id': df_1['object_id'],\n",
    "            'name': df_1['name'],\n",
    "            'org_name': df_1['org_name'],\n",
    "            'fraud_probability': df_1['fraud_probability']\n",
    "        }"
   ]
  },
  {
   "cell_type": "code",
   "execution_count": 85,
   "metadata": {},
   "outputs": [
    {
     "data": {
      "text/plain": [
       "{'object_id': 104011,\n",
       " 'name': 'LIDF Sunday at the Roxy - Part 2',\n",
       " 'org_name': 'PocketPictures',\n",
       " 'fraud_probability': 0.9180203950974756,\n",
       " 'test': None}"
      ]
     },
     "execution_count": 85,
     "metadata": {},
     "output_type": "execute_result"
    }
   ],
   "source": [
    "d"
   ]
  },
  {
   "cell_type": "code",
   "execution_count": 107,
   "metadata": {},
   "outputs": [
    {
     "name": "stdout",
     "output_type": "stream",
     "text": [
      "in entry_new\n",
      "it is new\n"
     ]
    }
   ],
   "source": [
    "!python test_script.py"
   ]
  },
  {
   "cell_type": "code",
   "execution_count": 92,
   "metadata": {},
   "outputs": [],
   "source": [
    "from pymongo import MongoClient\n",
    "client = MongoClient('localhost', 27017)\n",
    "db = client['frauds_test']\n",
    "table = db['new_events_test']"
   ]
  },
  {
   "cell_type": "code",
   "execution_count": 102,
   "metadata": {},
   "outputs": [],
   "source": [
    "d = {\n",
    "        'object_id': str(df_1['object_id']),\n",
    "        'name': df_1['name'],\n",
    "        'org_name': df_1['org_name'],\n",
    "        'fraud_probability': df_1['fraud_probability']\n",
    "        }\n",
    "        #table.insert_one(d)"
   ]
  },
  {
   "cell_type": "code",
   "execution_count": 103,
   "metadata": {},
   "outputs": [
    {
     "data": {
      "text/plain": [
       "{'object_id': '104011',\n",
       " 'name': 'LIDF Sunday at the Roxy - Part 2',\n",
       " 'org_name': 'PocketPictures',\n",
       " 'fraud_probability': 0.9180203950974756}"
      ]
     },
     "execution_count": 103,
     "metadata": {},
     "output_type": "execute_result"
    }
   ],
   "source": [
    "d"
   ]
  },
  {
   "cell_type": "code",
   "execution_count": 104,
   "metadata": {},
   "outputs": [
    {
     "data": {
      "text/plain": [
       "<pymongo.results.InsertOneResult at 0x222cd9eb0>"
      ]
     },
     "execution_count": 104,
     "metadata": {},
     "output_type": "execute_result"
    }
   ],
   "source": [
    "table.insert_one(d)"
   ]
  },
  {
   "cell_type": "code",
   "execution_count": 100,
   "metadata": {},
   "outputs": [
    {
     "data": {
      "text/plain": [
       "104011"
      ]
     },
     "execution_count": 100,
     "metadata": {},
     "output_type": "execute_result"
    }
   ],
   "source": [
    "df_1['object_id']"
   ]
  },
  {
   "cell_type": "code",
   "execution_count": null,
   "metadata": {},
   "outputs": [],
   "source": []
  }
 ],
 "metadata": {
  "kernelspec": {
   "display_name": "Python 3",
   "language": "python",
   "name": "python3"
  },
  "language_info": {
   "codemirror_mode": {
    "name": "ipython",
    "version": 3
   },
   "file_extension": ".py",
   "mimetype": "text/x-python",
   "name": "python",
   "nbconvert_exporter": "python",
   "pygments_lexer": "ipython3",
   "version": "3.7.7"
  }
 },
 "nbformat": 4,
 "nbformat_minor": 4
}
